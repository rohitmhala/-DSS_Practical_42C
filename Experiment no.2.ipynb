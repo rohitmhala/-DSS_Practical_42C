{
 "cells": [
  {
   "cell_type": "markdown",
   "id": "c01ac352-62fd-44a9-be1d-dc3c9662126c",
   "metadata": {},
   "source": [
    "# Data Aquisition"
   ]
  },
  {
   "cell_type": "code",
   "execution_count": null,
   "id": "ce3a9a8e-92e4-4821-9b5a-946fed063140",
   "metadata": {},
   "outputs": [],
   "source": [
    "#Name: Rohit Umesh Mhala\n",
    "#RolL no. :42\n",
    "#Sub : ET 1\n",
    "#section:3C \n",
    "#Date:19/07/2024\n"
   ]
  },
  {
   "cell_type": "code",
   "execution_count": null,
   "id": "09a1cd42-d014-4e7f-9d19-0648b83dd2ac",
   "metadata": {},
   "outputs": [],
   "source": [
    "# Aim: To Study Data Aquisition using Pandas"
   ]
  },
  {
   "cell_type": "code",
   "execution_count": null,
   "id": "b153301a-5b1b-41a0-927f-4c870d8d8e91",
   "metadata": {},
   "outputs": [],
   "source": [
    "import pandas as pd"
   ]
  },
  {
   "cell_type": "code",
   "execution_count": null,
   "id": "1490dd56-e58c-42c1-9609-df1692ccdb6f",
   "metadata": {},
   "outputs": [],
   "source": [
    "import os"
   ]
  },
  {
   "cell_type": "code",
   "execution_count": null,
   "id": "80b5e7c1-a608-402c-801c-eb828a809ab5",
   "metadata": {},
   "outputs": [],
   "source": [
    "os.getcwd()"
   ]
  },
  {
   "cell_type": "code",
   "execution_count": null,
   "id": "e5aa59b6-0b32-4445-84c7-5a222c5ccb34",
   "metadata": {},
   "outputs": [],
   "source": [
    "os.chdir(\"C:\\\\Users\\\\prite\\\\OneDrive\\\\Desktop\")"
   ]
  },
  {
   "cell_type": "code",
   "execution_count": null,
   "id": "d5bc37d9-2dfb-4116-a3ff-5cff8868ef3c",
   "metadata": {},
   "outputs": [],
   "source": [
    "data=pd.read_csv(\"diabetes.csv\")"
   ]
  },
  {
   "cell_type": "code",
   "execution_count": null,
   "id": "e47576d3-cbe6-42af-bc29-b95fdd07d830",
   "metadata": {},
   "outputs": [],
   "source": [
    "data.head()"
   ]
  },
  {
   "cell_type": "code",
   "execution_count": null,
   "id": "208f5b70-9d1e-4f6b-94ea-fa215c0ca46d",
   "metadata": {},
   "outputs": [],
   "source": [
    "data.tail()"
   ]
  },
  {
   "cell_type": "code",
   "execution_count": null,
   "id": "571535bb-8f2b-4f4b-b3c8-80128d16b67a",
   "metadata": {},
   "outputs": [],
   "source": []
  }
 ],
 "metadata": {
  "kernelspec": {
   "display_name": "Python 3 (ipykernel)",
   "language": "python",
   "name": "python3"
  },
  "language_info": {
   "codemirror_mode": {
    "name": "ipython",
    "version": 3
   },
   "file_extension": ".py",
   "mimetype": "text/x-python",
   "name": "python",
   "nbconvert_exporter": "python",
   "pygments_lexer": "ipython3",
   "version": "3.12.4"
  }
 },
 "nbformat": 4,
 "nbformat_minor": 5
}
